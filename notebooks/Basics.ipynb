{
 "cells": [
  {
   "cell_type": "markdown",
   "metadata": {},
   "source": [
    "# ProfLogit for Customer Churn Prediction"
   ]
  },
  {
   "cell_type": "code",
   "execution_count": 1,
   "metadata": {
    "collapsed": true
   },
   "outputs": [],
   "source": [
    "import numpy as np\n",
    "from proflogit import ProfLogit\n",
    "from proflogit.utils import load_data"
   ]
  },
  {
   "cell_type": "markdown",
   "metadata": {},
   "source": [
    "## Basic usage"
   ]
  },
  {
   "cell_type": "markdown",
   "metadata": {},
   "source": [
    "### Load some data"
   ]
  },
  {
   "cell_type": "markdown",
   "metadata": {},
   "source": [
    "Have a look at the raw data."
   ]
  },
  {
   "cell_type": "code",
   "execution_count": 2,
   "metadata": {},
   "outputs": [
    {
     "name": "stdout",
     "output_type": "stream",
     "text": [
      "\"y\" \"c\" \"x\"\r\n",
      "1 \"c1\" 1.764052345967664\r\n",
      "0 \"c3\" 0.9787379841057392\r\n",
      "0 \"c2\" 1.8675579901499675\r\n",
      "0 \"c1\" 0.9500884175255894\r\n",
      "1 \"c3\" -0.10321885179355784\r\n",
      "1 \"c2\" 0.144043571160878\r\n",
      "0 \"c1\" 0.7610377251469934\r\n",
      "0 \"c3\" 0.44386323274542566\r\n",
      "0 \"c2\" 1.4940790731576061\r\n"
     ]
    }
   ],
   "source": [
    "!head ../data/patsy_demo_train.dat"
   ]
  },
  {
   "cell_type": "code",
   "execution_count": 3,
   "metadata": {
    "collapsed": true
   },
   "outputs": [],
   "source": [
    "X_train, y_train = load_data('../data/patsy_demo_train.dat', target_variable='y')"
   ]
  },
  {
   "cell_type": "markdown",
   "metadata": {},
   "source": [
    "Your data should be stored in a dict-like object that allows accessing the variables via `data[varname]`."
   ]
  },
  {
   "cell_type": "code",
   "execution_count": 4,
   "metadata": {},
   "outputs": [
    {
     "name": "stdout",
     "output_type": "stream",
     "text": [
      "<class 'dict'>\n",
      "c <class 'list'> ['\"c1\"', '\"c3\"', '\"c2\"', '\"c1\"', '\"c3\"']\n",
      "x <class 'numpy.ndarray'> [ 1.76405235  0.97873798  1.86755799  0.95008842 -0.10321885]\n"
     ]
    }
   ],
   "source": [
    "print(type(X_train))\n",
    "for varname, var in X_train.items():\n",
    "    print(varname, type(var), var[:5])"
   ]
  },
  {
   "cell_type": "markdown",
   "metadata": {},
   "source": [
    "Here, `c` is nominal and `x` is numeric.\n",
    "The ``load_data`` function returns a ``dict`` in which data of numeric variables are stored in a `numpy.ndarray`.\n",
    "For all others, data are stored in a `list`."
   ]
  },
  {
   "cell_type": "markdown",
   "metadata": {},
   "source": [
    "Check target variable, where ``1`` represents *cases*."
   ]
  },
  {
   "cell_type": "code",
   "execution_count": 5,
   "metadata": {},
   "outputs": [
    {
     "name": "stdout",
     "output_type": "stream",
     "text": [
      "<class 'numpy.ndarray'> [1 0 0 0 1 1 0 0 0 1]\n"
     ]
    }
   ],
   "source": [
    "print(type(y_train), y_train[:10])"
   ]
  },
  {
   "cell_type": "markdown",
   "metadata": {},
   "source": [
    "### Build a ProfLogit model"
   ]
  },
  {
   "cell_type": "code",
   "execution_count": 6,
   "metadata": {},
   "outputs": [
    {
     "name": "stdout",
     "output_type": "stream",
     "text": [
      "# ---  RGA (Fri Jan 19 17:09:42)  --- #\n",
      "Iter =     0; nfev =     40; fx = 14.8297\n",
      "Iter =     1; nfev =     73; fx = 14.8597\n",
      "Iter =     2; nfev =    106; fx = 14.8836\n",
      "Iter =     3; nfev =    143; fx = 15.0351\n",
      "Iter =     4; nfev =    173; fx = 15.0351\n",
      "Iter =     5; nfev =    206; fx = 15.0631\n",
      "Iter =     6; nfev =    239; fx = 15.0631\n",
      "Iter =     7; nfev =    272; fx = 15.0700\n",
      "Iter =     8; nfev =    301; fx = 15.0700\n",
      "Iter =     9; nfev =    334; fx = 15.0814\n",
      "Iter =    10; nfev =    370; fx = 15.0894\n",
      "      fun: 15.089449928999562\n",
      "  message: 'Maximum number of iterations has been reached.'\n",
      "     nfev: 370\n",
      "      nit: 10\n",
      " nit_diff: 0\n",
      "  success: True\n",
      "        x: array([ 0.43488295, -0.22545574,  0.        ,  0.45229042])\n",
      "# ---  RGA (Fri Jan 19 17:09:43)  --- #\n"
     ]
    }
   ],
   "source": [
    "pfl = ProfLogit(\n",
    "    rga_kws={\n",
    "        'niter': 10,\n",
    "        'disp': True,\n",
    "        'random_state': 42,\n",
    "    },\n",
    ").fit(X_train, y_train)"
   ]
  },
  {
   "cell_type": "markdown",
   "metadata": {},
   "source": [
    "The optimization result is stored in the attribute ``res`` of ProfLogit's RGA instance.\n",
    "For example, the best solution found can be accessed as follows:"
   ]
  },
  {
   "cell_type": "code",
   "execution_count": 7,
   "metadata": {},
   "outputs": [
    {
     "data": {
      "text/plain": [
       "array([ 0.43488295, -0.22545574,  0.        ,  0.45229042])"
      ]
     },
     "execution_count": 7,
     "metadata": {},
     "output_type": "execute_result"
    }
   ],
   "source": [
    "pfl.rga.res.x"
   ]
  },
  {
   "cell_type": "markdown",
   "metadata": {},
   "source": [
    "ProfLogit makes use of `patsy` to easily create design matrices.\n",
    "That is, it uses the `patsy.dmatrix` function which *only* requires the *right-hand* side.\n",
    "When no formula is provided via ProfLogit's argument ``formula_like``,\n",
    "it, by default, models *only main effects*, where numeric variables are standardized.\n",
    "When the ``fit`` method is called, the formula used to create the design matrix \n",
    "is populated with the names taken from the dict-like input data.\n",
    "\n",
    "ProfLogit's attribute ``formula`` shows what formula has been used to construct the design matrix."
   ]
  },
  {
   "cell_type": "code",
   "execution_count": 8,
   "metadata": {},
   "outputs": [
    {
     "data": {
      "text/plain": [
       "'c + standardize(x)'"
      ]
     },
     "execution_count": 8,
     "metadata": {},
     "output_type": "execute_result"
    }
   ],
   "source": [
    "pfl.formula"
   ]
  },
  {
   "cell_type": "markdown",
   "metadata": {},
   "source": [
    "### Plot search path"
   ]
  },
  {
   "cell_type": "code",
   "execution_count": 9,
   "metadata": {
    "collapsed": true
   },
   "outputs": [],
   "source": [
    "import matplotlib.pyplot as plt\n",
    "%matplotlib inline"
   ]
  },
  {
   "cell_type": "code",
   "execution_count": 10,
   "metadata": {},
   "outputs": [
    {
     "name": "stdout",
     "output_type": "stream",
     "text": [
      "<class 'list'> [14.829698953657063, 14.859698953657063, 14.883592364032996]\n"
     ]
    }
   ],
   "source": [
    "best_so_far_solutions = pfl.rga.fx_best\n",
    "print(type(best_so_far_solutions), best_so_far_solutions[:3])"
   ]
  },
  {
   "cell_type": "markdown",
   "metadata": {},
   "source": [
    "*Note*: The first value in the list above is the best fitness value of the zero generation (i.e., at the time of initialization)."
   ]
  },
  {
   "cell_type": "code",
   "execution_count": 11,
   "metadata": {},
   "outputs": [
    {
     "data": {
      "image/png": "[encoded data removed]",
      "text/plain": [
       "<matplotlib.figure.Figure at 0x7f7fb9f4fba8>"
      ]
     },
     "metadata": {},
     "output_type": "display_data"
    }
   ],
   "source": [
    "plt.plot(best_so_far_solutions, label='RGA')\n",
    "plt.legend();"
   ]
  },
  {
   "cell_type": "markdown",
   "metadata": {},
   "source": [
    "### Make predictions"
   ]
  },
  {
   "cell_type": "code",
   "execution_count": 12,
   "metadata": {},
   "outputs": [
    {
     "name": "stdout",
     "output_type": "stream",
     "text": [
      "\"y\" \"c\" \"x\"\r\n",
      "1 \"c1\" 1.764052345967664\r\n",
      "1 \"c2\" -0.2127402802139687\r\n",
      "1 \"c3\" 0.7774903558319101\r\n",
      "1 \"c1\" -0.4380743016111864\r\n",
      "0 \"c2\" 1.9507753952317897\r\n",
      "1 \"c3\" -1.4200179371789752\r\n",
      "0 \"c1\" -0.30230275057533557\r\n",
      "0 \"c2\" 1.2023798487844113\r\n",
      "1 \"c3\" 0.15634896910398005\r\n"
     ]
    }
   ],
   "source": [
    "!head ../data/patsy_demo_test.dat"
   ]
  },
  {
   "cell_type": "code",
   "execution_count": 13,
   "metadata": {
    "collapsed": true
   },
   "outputs": [],
   "source": [
    "X_test, y_test = load_data('../data/patsy_demo_test.dat', target_variable='y')"
   ]
  },
  {
   "cell_type": "markdown",
   "metadata": {},
   "source": [
    "Compute the probability that an instance is a case.\n",
    "Here, a case corresponds to a *churner*."
   ]
  },
  {
   "cell_type": "markdown",
   "metadata": {},
   "source": [
    "*Note*: By default, numeric variables are scaled through patsy's built-in standardization transformation function.\n",
    "When such a transformation is in place, new data are scaled appropriately before scoring with the scaling parameters obtained from the training data."
   ]
  },
  {
   "cell_type": "code",
   "execution_count": 14,
   "metadata": {
    "collapsed": true
   },
   "outputs": [],
   "source": [
    "y_score = pfl.predict_proba(X_test)"
   ]
  },
  {
   "cell_type": "code",
   "execution_count": 15,
   "metadata": {},
   "outputs": [
    {
     "name": "stdout",
     "output_type": "stream",
     "text": [
      "<class 'numpy.ndarray'> [ 0.74010046  0.51971389  0.66286996]\n"
     ]
    }
   ],
   "source": [
    "print(type(y_score), y_score[:3])"
   ]
  },
  {
   "cell_type": "markdown",
   "metadata": {},
   "source": [
    "### Compute EMPC performance on test set"
   ]
  },
  {
   "cell_type": "code",
   "execution_count": 16,
   "metadata": {},
   "outputs": [
    {
     "data": {
      "text/plain": [
       "25.503582714628958"
      ]
     },
     "execution_count": 16,
     "metadata": {},
     "output_type": "execute_result"
    }
   ],
   "source": [
    "empc0 = pfl.score(X_test, y_test)\n",
    "empc0"
   ]
  },
  {
   "cell_type": "markdown",
   "metadata": {},
   "source": [
    "# Using Pandas"
   ]
  },
  {
   "cell_type": "code",
   "execution_count": 17,
   "metadata": {
    "collapsed": true
   },
   "outputs": [],
   "source": [
    "import pandas as pd"
   ]
  },
  {
   "cell_type": "markdown",
   "metadata": {},
   "source": [
    "### Load some data"
   ]
  },
  {
   "cell_type": "code",
   "execution_count": 18,
   "metadata": {
    "collapsed": true
   },
   "outputs": [],
   "source": [
    "df_train = pd.read_csv('../data/patsy_demo_train.dat', sep=' ')"
   ]
  },
  {
   "cell_type": "code",
   "execution_count": 19,
   "metadata": {},
   "outputs": [
    {
     "name": "stdout",
     "output_type": "stream",
     "text": [
      "<class 'pandas.core.frame.DataFrame'>\n",
      "RangeIndex: 26 entries, 0 to 25\n",
      "Data columns (total 3 columns):\n",
      "y    26 non-null int64\n",
      "c    26 non-null object\n",
      "x    26 non-null float64\n",
      "dtypes: float64(1), int64(1), object(1)\n",
      "memory usage: 704.0+ bytes\n"
     ]
    }
   ],
   "source": [
    "df_train.info()"
   ]
  },
  {
   "cell_type": "code",
   "execution_count": 20,
   "metadata": {},
   "outputs": [
    {
     "data": {
      "text/html": [
       "<div>\n",
       "<style>\n",
       "    .dataframe thead tr:only-child th {\n",
       "        text-align: right;\n",
       "    }\n",
       "\n",
       "    .dataframe thead th {\n",
       "        text-align: left;\n",
       "    }\n",
       "\n",
       "    .dataframe tbody tr th {\n",
       "        vertical-align: top;\n",
       "    }\n",
       "</style>\n",
       "<table border=\"1\" class=\"dataframe\">\n",
       "  <thead>\n",
       "    <tr style=\"text-align: right;\">\n",
       "      <th></th>\n",
       "      <th>y</th>\n",
       "      <th>c</th>\n",
       "      <th>x</th>\n",
       "    </tr>\n",
       "  </thead>\n",
       "  <tbody>\n",
       "    <tr>\n",
       "      <th>0</th>\n",
       "      <td>1</td>\n",
       "      <td>c1</td>\n",
       "      <td>1.764052</td>\n",
       "    </tr>\n",
       "    <tr>\n",
       "      <th>1</th>\n",
       "      <td>0</td>\n",
       "      <td>c3</td>\n",
       "      <td>0.978738</td>\n",
       "    </tr>\n",
       "    <tr>\n",
       "      <th>2</th>\n",
       "      <td>0</td>\n",
       "      <td>c2</td>\n",
       "      <td>1.867558</td>\n",
       "    </tr>\n",
       "    <tr>\n",
       "      <th>3</th>\n",
       "      <td>0</td>\n",
       "      <td>c1</td>\n",
       "      <td>0.950088</td>\n",
       "    </tr>\n",
       "    <tr>\n",
       "      <th>4</th>\n",
       "      <td>1</td>\n",
       "      <td>c3</td>\n",
       "      <td>-0.103219</td>\n",
       "    </tr>\n",
       "  </tbody>\n",
       "</table>\n",
       "</div>"
      ],
      "text/plain": [
       "   y   c         x\n",
       "0  1  c1  1.764052\n",
       "1  0  c3  0.978738\n",
       "2  0  c2  1.867558\n",
       "3  0  c1  0.950088\n",
       "4  1  c3 -0.103219"
      ]
     },
     "execution_count": 20,
     "metadata": {},
     "output_type": "execute_result"
    }
   ],
   "source": [
    "df_train.head()"
   ]
  },
  {
   "cell_type": "code",
   "execution_count": 21,
   "metadata": {
    "collapsed": true
   },
   "outputs": [],
   "source": [
    "X_train = df_train.loc[:, ['c', 'x']]\n",
    "y_train = df_train.loc[:, 'y']"
   ]
  },
  {
   "cell_type": "code",
   "execution_count": 22,
   "metadata": {},
   "outputs": [
    {
     "name": "stdout",
     "output_type": "stream",
     "text": [
      "<class 'pandas.core.series.Series'>\n",
      "0    1\n",
      "1    0\n",
      "2    0\n",
      "3    0\n",
      "4    1\n",
      "5    1\n",
      "6    0\n",
      "7    0\n",
      "8    0\n",
      "9    1\n",
      "Name: y, dtype: int64\n"
     ]
    }
   ],
   "source": [
    "print(type(y_train))\n",
    "print(y_train[:10])"
   ]
  },
  {
   "cell_type": "markdown",
   "metadata": {},
   "source": [
    "### Build a ProfLogit model"
   ]
  },
  {
   "cell_type": "code",
   "execution_count": 23,
   "metadata": {},
   "outputs": [
    {
     "name": "stdout",
     "output_type": "stream",
     "text": [
      "# ---  RGA (Fri Jan 19 17:09:44)  --- #\n",
      "Iter =     0; nfev =     40; fx = 14.8297\n",
      "Iter =     1; nfev =     73; fx = 14.8597\n",
      "Iter =     2; nfev =    106; fx = 14.8836\n",
      "Iter =     3; nfev =    143; fx = 15.0351\n",
      "Iter =     4; nfev =    173; fx = 15.0351\n",
      "Iter =     5; nfev =    206; fx = 15.0631\n",
      "Iter =     6; nfev =    239; fx = 15.0631\n",
      "Iter =     7; nfev =    272; fx = 15.0700\n",
      "Iter =     8; nfev =    301; fx = 15.0700\n",
      "Iter =     9; nfev =    334; fx = 15.0814\n",
      "Iter =    10; nfev =    370; fx = 15.0894\n",
      "      fun: 15.089449928999562\n",
      "  message: 'Maximum number of iterations has been reached.'\n",
      "     nfev: 370\n",
      "      nit: 10\n",
      " nit_diff: 0\n",
      "  success: True\n",
      "        x: array([ 0.43488295, -0.22545574,  0.        ,  0.45229042])\n",
      "# ---  RGA (Fri Jan 19 17:09:44)  --- #\n"
     ]
    }
   ],
   "source": [
    "pfl_pd = ProfLogit(\n",
    "    rga_kws={\n",
    "        'niter': 10,\n",
    "        'disp': True,\n",
    "        'random_state': 42,\n",
    "    },\n",
    ")\n",
    "pfl_pd.fit(X_train, y_train);"
   ]
  },
  {
   "cell_type": "markdown",
   "metadata": {},
   "source": [
    "It uses the same formula as in the previous example."
   ]
  },
  {
   "cell_type": "code",
   "execution_count": 24,
   "metadata": {},
   "outputs": [
    {
     "data": {
      "text/plain": [
       "'c + standardize(x)'"
      ]
     },
     "execution_count": 24,
     "metadata": {},
     "output_type": "execute_result"
    }
   ],
   "source": [
    "pfl_pd.formula"
   ]
  },
  {
   "cell_type": "markdown",
   "metadata": {},
   "source": [
    "### Plot search path"
   ]
  },
  {
   "cell_type": "code",
   "execution_count": 25,
   "metadata": {},
   "outputs": [
    {
     "data": {
      "image/png": "[encoded data removed]",
      "text/plain": [
       "<matplotlib.figure.Figure at 0x7f7fbc193b70>"
      ]
     },
     "metadata": {},
     "output_type": "display_data"
    }
   ],
   "source": [
    "best_so_far_solutions = pfl_pd.rga.fx_best\n",
    "plt.plot(best_so_far_solutions, label='RGA')\n",
    "plt.legend();"
   ]
  },
  {
   "cell_type": "markdown",
   "metadata": {},
   "source": [
    "### Make predictions"
   ]
  },
  {
   "cell_type": "code",
   "execution_count": 26,
   "metadata": {
    "collapsed": true
   },
   "outputs": [],
   "source": [
    "df_test = pd.read_csv('../data/patsy_demo_test.dat', sep=' ')"
   ]
  },
  {
   "cell_type": "code",
   "execution_count": 27,
   "metadata": {},
   "outputs": [
    {
     "name": "stdout",
     "output_type": "stream",
     "text": [
      "<class 'pandas.core.frame.DataFrame'>\n",
      "RangeIndex: 26 entries, 0 to 25\n",
      "Data columns (total 3 columns):\n",
      "y    26 non-null int64\n",
      "c    26 non-null object\n",
      "x    26 non-null float64\n",
      "dtypes: float64(1), int64(1), object(1)\n",
      "memory usage: 704.0+ bytes\n"
     ]
    }
   ],
   "source": [
    "df_test.info()"
   ]
  },
  {
   "cell_type": "code",
   "execution_count": 28,
   "metadata": {},
   "outputs": [
    {
     "data": {
      "text/html": [
       "<div>\n",
       "<style>\n",
       "    .dataframe thead tr:only-child th {\n",
       "        text-align: right;\n",
       "    }\n",
       "\n",
       "    .dataframe thead th {\n",
       "        text-align: left;\n",
       "    }\n",
       "\n",
       "    .dataframe tbody tr th {\n",
       "        vertical-align: top;\n",
       "    }\n",
       "</style>\n",
       "<table border=\"1\" class=\"dataframe\">\n",
       "  <thead>\n",
       "    <tr style=\"text-align: right;\">\n",
       "      <th></th>\n",
       "      <th>y</th>\n",
       "      <th>c</th>\n",
       "      <th>x</th>\n",
       "    </tr>\n",
       "  </thead>\n",
       "  <tbody>\n",
       "    <tr>\n",
       "      <th>0</th>\n",
       "      <td>1</td>\n",
       "      <td>c1</td>\n",
       "      <td>1.764052</td>\n",
       "    </tr>\n",
       "    <tr>\n",
       "      <th>1</th>\n",
       "      <td>1</td>\n",
       "      <td>c2</td>\n",
       "      <td>-0.212740</td>\n",
       "    </tr>\n",
       "    <tr>\n",
       "      <th>2</th>\n",
       "      <td>1</td>\n",
       "      <td>c3</td>\n",
       "      <td>0.777490</td>\n",
       "    </tr>\n",
       "    <tr>\n",
       "      <th>3</th>\n",
       "      <td>1</td>\n",
       "      <td>c1</td>\n",
       "      <td>-0.438074</td>\n",
       "    </tr>\n",
       "    <tr>\n",
       "      <th>4</th>\n",
       "      <td>0</td>\n",
       "      <td>c2</td>\n",
       "      <td>1.950775</td>\n",
       "    </tr>\n",
       "  </tbody>\n",
       "</table>\n",
       "</div>"
      ],
      "text/plain": [
       "   y   c         x\n",
       "0  1  c1  1.764052\n",
       "1  1  c2 -0.212740\n",
       "2  1  c3  0.777490\n",
       "3  1  c1 -0.438074\n",
       "4  0  c2  1.950775"
      ]
     },
     "execution_count": 28,
     "metadata": {},
     "output_type": "execute_result"
    }
   ],
   "source": [
    "df_test.head()"
   ]
  },
  {
   "cell_type": "code",
   "execution_count": 29,
   "metadata": {
    "collapsed": true
   },
   "outputs": [],
   "source": [
    "X_test = df_test.loc[:, ['c', 'x']]\n",
    "y_test = df_test.loc[:, 'y']"
   ]
  },
  {
   "cell_type": "code",
   "execution_count": 30,
   "metadata": {
    "collapsed": true
   },
   "outputs": [],
   "source": [
    "y_score = pfl_pd.predict_proba(X_test)"
   ]
  },
  {
   "cell_type": "code",
   "execution_count": 31,
   "metadata": {},
   "outputs": [
    {
     "name": "stdout",
     "output_type": "stream",
     "text": [
      "<class 'numpy.ndarray'> [ 0.74010046  0.51971389  0.66286996]\n"
     ]
    }
   ],
   "source": [
    "print(type(y_score), y_score[:3])"
   ]
  },
  {
   "cell_type": "markdown",
   "metadata": {},
   "source": [
    "### Compute EMPC performance on test set"
   ]
  },
  {
   "cell_type": "code",
   "execution_count": 32,
   "metadata": {},
   "outputs": [
    {
     "data": {
      "text/plain": [
       "25.503582714628958"
      ]
     },
     "execution_count": 32,
     "metadata": {},
     "output_type": "execute_result"
    }
   ],
   "source": [
    "empc1 = pfl_pd.score(X_test, y_test)\n",
    "empc1"
   ]
  },
  {
   "cell_type": "markdown",
   "metadata": {},
   "source": [
    "Check if we get the same EMPC performance on the test set."
   ]
  },
  {
   "cell_type": "code",
   "execution_count": 33,
   "metadata": {},
   "outputs": [
    {
     "data": {
      "text/plain": [
       "True"
      ]
     },
     "execution_count": 33,
     "metadata": {},
     "output_type": "execute_result"
    }
   ],
   "source": [
    "from math import isclose\n",
    "isclose(empc0, empc1)"
   ]
  }
 ],
 "metadata": {
  "kernelspec": {
   "display_name": "Python 3",
   "language": "python",
   "name": "python3"
  },
  "language_info": {
   "codemirror_mode": {
    "name": "ipython",
    "version": 3
   },
   "file_extension": ".py",
   "mimetype": "text/x-python",
   "name": "python",
   "nbconvert_exporter": "python",
   "pygments_lexer": "ipython3",
   "version": "3.6.1"
  }
 },
 "nbformat": 4,
 "nbformat_minor": 2
}
