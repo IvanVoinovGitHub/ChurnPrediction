{
  "nbformat": 4,
  "nbformat_minor": 0,
  "metadata": {
    "colab": {
      "name": "Normalization.ipynb",
      "provenance": [],
      "collapsed_sections": []
    },
    "kernelspec": {
      "name": "python3",
      "display_name": "Python 3"
    },
    "language_info": {
      "name": "python"
    }
  },
  "cells": [
    {
      "cell_type": "code",
      "execution_count": 1,
      "metadata": {
        "id": "mEDiWRWDCIqK"
      },
      "outputs": [],
      "source": [
        "from sklearn.preprocessing import StandardScaler"
      ]
    },
    {
      "cell_type": "code",
      "source": [
        "tempy = [1, 0, 0, 0, 1, 1, 0, 0, 0, 1, 0, 0, 1, 1, 1, 1, 1, 0, 0, 0, 0, 0, 0, 0, 0, 0]\n",
        "tempx = [1.764052345967664, 0.9787379841057392, 1.8675579901499675, 0.9500884175255894, -0.10321885179355784, 0.144043571160878, 0.7610377251469934, 0.44386323274542566, 1.4940790731576061, 0.31306770165090136, -2.5529898158340787, 0.8644361988595057, 2.2697546239876076, 0.04575851730144607, 1.5327792143584575, 0.1549474256969163, -0.8877857476301128, -0.3479121493261526, 1.2302906807277207, -0.3873268174079523, -1.0485529650670926, -1.7062701906250126, -0.5096521817516535, -1.2527953600499262, -1.6138978475579515, -0.8954665611936756]\n"
      ],
      "metadata": {
        "id": "VcW0BMreS6mm"
      },
      "execution_count": 3,
      "outputs": []
    },
    {
      "cell_type": "code",
      "source": [
        "data = []\n",
        "for i in tempy:\n",
        "  for x in tempx:\n",
        "    newlist = []\n",
        "    newlist.append(x)\n",
        "    newlist.append(i)\n",
        "    data.append(newlist)\n"
      ],
      "metadata": {
        "id": "wdiP00qYVpOZ"
      },
      "execution_count": 6,
      "outputs": []
    },
    {
      "cell_type": "code",
      "source": [
        "scaler = StandardScaler()\n",
        "print(scaler.fit(data))"
      ],
      "metadata": {
        "colab": {
          "base_uri": "https://localhost:8080/"
        },
        "id": "LQ24rZKySvmu",
        "outputId": "f42c4590-76df-4606-d85d-eda048ea0243"
      },
      "execution_count": 7,
      "outputs": [
        {
          "output_type": "stream",
          "name": "stdout",
          "text": [
            "StandardScaler()\n"
          ]
        }
      ]
    },
    {
      "cell_type": "code",
      "source": [
        "print(scaler.transform(data))"
      ],
      "metadata": {
        "colab": {
          "base_uri": "https://localhost:8080/"
        },
        "id": "qAAZj8dRV94O",
        "outputId": "ebdfeb66-10a4-4dac-aca8-fd15b5bf5745"
      },
      "execution_count": 8,
      "outputs": [
        {
          "output_type": "stream",
          "name": "stdout",
          "text": [
            "[[ 1.35224574  1.37436854]\n",
            " [ 0.70039219  1.37436854]\n",
            " [ 1.43816104  1.37436854]\n",
            " ...\n",
            " [-1.15190163 -0.72760688]\n",
            " [-1.45163629 -0.72760688]\n",
            " [-0.85529933 -0.72760688]]\n"
          ]
        }
      ]
    }
  ]
}